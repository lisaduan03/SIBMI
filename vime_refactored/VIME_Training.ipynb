{
 "cells": [
  {
   "cell_type": "markdown",
   "metadata": {},
   "source": [
    "# VIME: Self/Semi Supervised Learning for Tabular Data"
   ]
  },
  {
   "cell_type": "markdown",
   "metadata": {},
   "source": [
    "# Setup"
   ]
  },
  {
   "cell_type": "code",
   "execution_count": 2,
   "metadata": {},
   "outputs": [],
   "source": [
    "import sys\n"
   ]
  },
  {
   "cell_type": "code",
   "execution_count": 3,
   "metadata": {},
   "outputs": [
    {
     "name": "stdout",
     "output_type": "stream",
     "text": [
      "['/home/lic776//Desktop/SIBMI/modified_umap', '/usr/lib64/python36.zip', '/usr/lib64/python3.6', '/usr/lib64/python3.6/lib-dynload', '', '/home/lic776/Desktop/SIBMI/.venv/lib64/python3.6/site-packages', '/home/lic776/Desktop/SIBMI/.venv/lib/python3.6/site-packages', '/home/lic776/Desktop/SIBMI/.venv/lib64/python3.6/site-packages/IPython/extensions', '/home/lic776/.ipython', '/home/lic776/Desktop/SIBMI/']\n"
     ]
    },
    {
     "name": "stderr",
     "output_type": "stream",
     "text": [
      "Using TensorFlow backend.\n"
     ]
    }
   ],
   "source": [
    "sys.path.insert(0, '/home/lic776//Desktop/SIBMI/modified_umap')\n",
    "directory_to_remove = '/home/lic776/Desktop/SIBMI/vime_refactored'\n",
    "if directory_to_remove in sys.path:\n",
    "    print(\"it is there\")\n",
    "    sys.path.remove(directory_to_remove)\n",
    "sys.path.append('/home/lic776/Desktop/SIBMI/')\n",
    "print(sys.path)\n",
    "\n",
    "import umap as mp\n"
   ]
  },
  {
   "cell_type": "code",
   "execution_count": 4,
   "metadata": {},
   "outputs": [],
   "source": [
    "import matplotlib.pyplot as plt\n",
    "import numpy as np\n",
    "import pandas as pd\n",
    "import importlib_metadata\n",
    "import seaborn as sns\n",
    "import tensorflow as tf\n",
    "from sklearn.metrics import (average_precision_score, mean_squared_error,\n",
    "                             roc_auc_score)\n",
    "from sklearn.model_selection import train_test_split\n",
    "from tqdm import tqdm\n",
    "from vime_refactored.vime import VIME, VIME_Self\n",
    "from vime_refactored.vime_data import (\n",
    "    labelled_loss_fn, mask_generator_tf,\n",
    "    pretext_generator_tf, semi_supervised_generator,\n",
    "    to_vime_dataset, unlabelled_loss_fn\n",
    ")\n",
    "from sklearn.preprocessing import LabelEncoder\n",
    "import copy\n"
   ]
  },
  {
   "cell_type": "code",
   "execution_count": 5,
   "metadata": {},
   "outputs": [],
   "source": [
    "%matplotlib inline\n",
    "%load_ext autoreload\n",
    "%autoreload 2\n",
    "\n",
    "plt.rcParams[\"figure.figsize\"] = (20,10)"
   ]
  },
  {
   "cell_type": "markdown",
   "metadata": {},
   "source": [
    "# Data"
   ]
  },
  {
   "cell_type": "markdown",
   "metadata": {},
   "source": [
    "We're going to be using IEEE-CIS Fraud detection dataset from Kaggle. The dataset was already pre-processed and can be downloaded from [Kaggle](https://www.kaggle.com/datasets/antonsruberts/fraud-detection-preprocesed). If you want to know about the pre-processing process or yopu want to change something, feel free to take a look at the `Fraud Data Unsupervised Preprocessing` notebook.\n",
    "The example data is taken from [Kaggle](https://www.kaggle.com/c/ieee-fraud-detection) but it's already pre-processed and ready to be used. You can checkout the pre-processing notebook in the same folder to get some understanding about what transformations were done to the features."
   ]
  },
  {
   "cell_type": "code",
   "execution_count": 6,
   "metadata": {},
   "outputs": [
    {
     "name": "stdout",
     "output_type": "stream",
     "text": [
      "(4262, 51)\n"
     ]
    }
   ],
   "source": [
    "df = pd.read_csv('/home/lic776/Desktop/SIBMI/merged_data_sub_10.csv')\n",
    "\n",
    "# Further preparing the data \n",
    "# Drop irrelevant columns\n",
    "columns_to_drop = [\"SDMVPSU\", \"SDMVSTRA\", \"WTMEC4YR\", \"SDDSRVYR\", \"RIDSTATR\", \"WTSCY4YR\"] # \"eGFR\", \"eGFR_no_race\", \"change_in_eGFR\"]\n",
    "df = df.drop(columns=columns_to_drop)\n",
    "# Encode categorical variables\n",
    "label_encoders = {}\n",
    "for column in [\"RIAGENDR\", \"RIDRETH2\", \"RIDEXPRG\"]:\n",
    "    le = LabelEncoder()\n",
    "    df[column] = le.fit_transform(df[column].astype(str))\n",
    "    label_encoders[column] = le\n",
    "\n",
    "# separating and printing shapes\n",
    "labeled_data = df[df['simulated_mGFR'].notna()]\n",
    "unlabeled_data = df[df['simulated_mGFR'].isna()]\n",
    "\n",
    "from sklearn.impute import SimpleImputer\n",
    "from sklearn.pipeline import Pipeline\n",
    "from sklearn.preprocessing import StandardScaler\n",
    "\n",
    "# from semisupervised.ipynb, but we actually want X\n",
    "X_labeled = labeled_data.drop(columns=['simulated_mGFR'])\n",
    "y_labeled = labeled_data['simulated_mGFR']\n",
    "X_unlabeled = unlabeled_data.drop(columns=['simulated_mGFR'])\n",
    "\n",
    "X = pd.concat([X_labeled, X_unlabeled], ignore_index=True)\n",
    "\n",
    "print(X.shape)"
   ]
  },
  {
   "cell_type": "code",
   "execution_count": 7,
   "metadata": {},
   "outputs": [
    {
     "name": "stdout",
     "output_type": "stream",
     "text": [
      "(340, 51) (86, 51)\n"
     ]
    }
   ],
   "source": [
    "my_pipeline = Pipeline([\n",
    "    ('imputer', SimpleImputer(strategy=\"mean\")),\n",
    "    ('std_scaler', StandardScaler())\n",
    "])\n",
    "\n",
    "\n",
    "\n",
    "\n",
    "# Splitting X into training and test sets for labeled data\n",
    "X_train_labeled, X_test_labeled, y_train_labeled, y_test_labeled = train_test_split(X_labeled, y_labeled, test_size=0.2, random_state=42)\n",
    "\n",
    "# # Fit and transform X_train_labeled\n",
    "X_train_labeled = my_pipeline.fit_transform(X_train_labeled)\n",
    "X_train_labeled = pd.DataFrame(X_train_labeled)\n",
    "\n",
    "# Transform X_test_labeled and X_unlabeled\n",
    "X_test_labeled= my_pipeline.transform(X_test_labeled)\n",
    "X_test_labeled_ = pd.DataFrame(X_test_labeled)\n",
    "X_unlabeled = my_pipeline.transform(X_unlabeled)\n",
    "X_unlabeled = pd.DataFrame(X_unlabeled)\n",
    "\n",
    "print(X_train_labeled.shape, X_test_labeled.shape)\n"
   ]
  },
  {
   "cell_type": "code",
   "execution_count": 8,
   "metadata": {},
   "outputs": [
    {
     "name": "stdout",
     "output_type": "stream",
     "text": [
      "Labelled train, val, test:  (306, 51) (34, 51) (86, 51)\n",
      "unlabelled train, val:  (3452, 51) (384, 51)\n",
      "X_unlabeled:  (3836, 51)\n",
      "Labelled Proportion: 0.07388\n"
     ]
    }
   ],
   "source": [
    "# val? \n",
    "X_train_labeled_copy = copy.deepcopy(X_train_labeled)\n",
    "y_train_labeled_copy = copy.deepcopy(y_train_labeled)\n",
    "X_train_labeled, X_val_labeled, y_train_labeled, y_val_labeled = train_test_split(X_train_labeled_copy, y_train_labeled_copy, test_size=0.1, random_state=42)\n",
    "X_train_unlabeled, X_val_unlabeled = train_test_split(X_unlabeled, test_size=0.1, random_state=42)\n",
    "\n",
    "print(\"Labelled train, val, test: \", X_train_labeled.shape, X_val_labeled.shape, X_test_labeled.shape)\n",
    "print(\"unlabelled train, val: \", X_train_unlabeled.shape, X_val_unlabeled.shape)\n",
    "print(\"X_unlabeled: \", X_unlabeled.shape)\n",
    "print(\n",
    "    \"Labelled Proportion:\", \n",
    "    np.round((X_train_labeled.shape[0]) / (X_unlabeled.shape[0] + X_train_labeled.shape[0]), 5)\n",
    ") # should be .07388"
   ]
  },
  {
   "cell_type": "markdown",
   "metadata": {},
   "source": [
    "The following model will be trained with these hyperparameters:"
   ]
  },
  {
   "cell_type": "code",
   "execution_count": 9,
   "metadata": {},
   "outputs": [],
   "source": [
    "vime_params = {\n",
    "    'alpha': 10, # importance of feature loss = more diverse\n",
    "    'beta': 5,  # importance of mask loss\n",
    "    'k': 5, \n",
    "    'p_m': 0.36\n",
    "}"
   ]
  },
  {
   "cell_type": "markdown",
   "metadata": {},
   "source": [
    "## Self-Supervised Learning"
   ]
  },
  {
   "cell_type": "markdown",
   "metadata": {},
   "source": [
    "### Data Prep"
   ]
  },
  {
   "cell_type": "markdown",
   "metadata": {},
   "source": [
    "The model needs 1 input - corrupted X, and 2 outputs - mask and original X. "
   ]
  },
  {
   "cell_type": "code",
   "execution_count": 10,
   "metadata": {},
   "outputs": [
    {
     "name": "stdout",
     "output_type": "stream",
     "text": [
      "False\n",
      "False\n",
      "False\n",
      "False\n"
     ]
    }
   ],
   "source": [
    "print(np.any(np.isnan(X_train_unlabeled)))\n",
    "print(np.any(np.isinf(X_train_unlabeled)))\n",
    "print(np.any(np.isnan(X_val_unlabeled)))\n",
    "print(np.any(np.isinf(X_val_unlabeled)))\n",
    "\n",
    "zero_variance_features = (X_train_unlabeled.var() == 0).sum()\n",
    "if zero_variance_features > 0:\n",
    "    print(f\"Warning: {zero_variance_features} features have zero variance.\")\n",
    "\n"
   ]
  },
  {
   "cell_type": "code",
   "execution_count": 11,
   "metadata": {
    "scrolled": true
   },
   "outputs": [
    {
     "ename": "AttributeError",
     "evalue": "module 'tensorflow.python.keras.api._v1.keras.backend' has no attribute 'random_bernoulli'",
     "output_type": "error",
     "traceback": [
      "\u001b[0;31m---------------------------------------------------------------------------\u001b[0m",
      "\u001b[0;31mAttributeError\u001b[0m                            Traceback (most recent call last)",
      "\u001b[0;32m<ipython-input-11-50a99f6c5276>\u001b[0m in \u001b[0;36m<module>\u001b[0;34m\u001b[0m\n\u001b[1;32m      2\u001b[0m \u001b[0;34m\u001b[0m\u001b[0m\n\u001b[1;32m      3\u001b[0m \u001b[0;31m# Datasets\u001b[0m\u001b[0;34m\u001b[0m\u001b[0;34m\u001b[0m\u001b[0;34m\u001b[0m\u001b[0m\n\u001b[0;32m----> 4\u001b[0;31m \u001b[0mtrain_ds\u001b[0m\u001b[0;34m,\u001b[0m \u001b[0mtrain_m\u001b[0m \u001b[0;34m=\u001b[0m \u001b[0mto_vime_dataset\u001b[0m\u001b[0;34m(\u001b[0m\u001b[0mX_train_unlabeled\u001b[0m\u001b[0;34m,\u001b[0m \u001b[0mvime_params\u001b[0m\u001b[0;34m[\u001b[0m\u001b[0;34m'p_m'\u001b[0m\u001b[0;34m]\u001b[0m\u001b[0;34m,\u001b[0m \u001b[0mbatch_size\u001b[0m\u001b[0;34m=\u001b[0m\u001b[0mbatch_size\u001b[0m\u001b[0;34m,\u001b[0m \u001b[0mshuffle\u001b[0m\u001b[0;34m=\u001b[0m\u001b[0;32mTrue\u001b[0m\u001b[0;34m)\u001b[0m\u001b[0;34m\u001b[0m\u001b[0;34m\u001b[0m\u001b[0m\n\u001b[0m\u001b[1;32m      5\u001b[0m \u001b[0mval_ds\u001b[0m\u001b[0;34m,\u001b[0m \u001b[0mval_m\u001b[0m \u001b[0;34m=\u001b[0m \u001b[0mto_vime_dataset\u001b[0m\u001b[0;34m(\u001b[0m\u001b[0mX_val_unlabeled\u001b[0m\u001b[0;34m,\u001b[0m \u001b[0mvime_params\u001b[0m\u001b[0;34m[\u001b[0m\u001b[0;34m'p_m'\u001b[0m\u001b[0;34m]\u001b[0m\u001b[0;34m,\u001b[0m \u001b[0mbatch_size\u001b[0m\u001b[0;34m=\u001b[0m\u001b[0mbatch_size\u001b[0m\u001b[0;34m)\u001b[0m\u001b[0;34m\u001b[0m\u001b[0;34m\u001b[0m\u001b[0m\n\u001b[1;32m      6\u001b[0m \u001b[0mnum_features\u001b[0m \u001b[0;34m=\u001b[0m \u001b[0mX_train_unlabeled\u001b[0m\u001b[0;34m.\u001b[0m\u001b[0mshape\u001b[0m\u001b[0;34m[\u001b[0m\u001b[0;36m1\u001b[0m\u001b[0;34m]\u001b[0m\u001b[0;34m\u001b[0m\u001b[0;34m\u001b[0m\u001b[0m\n",
      "\u001b[0;32m~/Desktop/SIBMI/vime_refactored/vime_data.py\u001b[0m in \u001b[0;36mto_vime_dataset\u001b[0;34m(x, p_m, batch_size, shuffle)\u001b[0m\n\u001b[1;32m     43\u001b[0m \u001b[0;32mdef\u001b[0m \u001b[0mto_vime_dataset\u001b[0m\u001b[0;34m(\u001b[0m\u001b[0mx\u001b[0m\u001b[0;34m,\u001b[0m \u001b[0mp_m\u001b[0m\u001b[0;34m,\u001b[0m \u001b[0mbatch_size\u001b[0m\u001b[0;34m=\u001b[0m\u001b[0;36m1024\u001b[0m\u001b[0;34m,\u001b[0m \u001b[0mshuffle\u001b[0m\u001b[0;34m=\u001b[0m\u001b[0;32mFalse\u001b[0m\u001b[0;34m)\u001b[0m\u001b[0;34m:\u001b[0m\u001b[0;34m\u001b[0m\u001b[0;34m\u001b[0m\u001b[0m\n\u001b[1;32m     44\u001b[0m     \u001b[0;31m# Generate mask\u001b[0m\u001b[0;34m\u001b[0m\u001b[0;34m\u001b[0m\u001b[0;34m\u001b[0m\u001b[0m\n\u001b[0;32m---> 45\u001b[0;31m     \u001b[0mm\u001b[0m \u001b[0;34m=\u001b[0m \u001b[0mmask_generator_tf\u001b[0m\u001b[0;34m(\u001b[0m\u001b[0mp_m\u001b[0m\u001b[0;34m,\u001b[0m \u001b[0mx\u001b[0m\u001b[0;34m)\u001b[0m\u001b[0;34m\u001b[0m\u001b[0;34m\u001b[0m\u001b[0m\n\u001b[0m\u001b[1;32m     46\u001b[0m     \u001b[0;31m# Corrupt the dataset\u001b[0m\u001b[0;34m\u001b[0m\u001b[0;34m\u001b[0m\u001b[0;34m\u001b[0m\u001b[0m\n\u001b[1;32m     47\u001b[0m     \u001b[0mm\u001b[0m\u001b[0;34m,\u001b[0m \u001b[0mx_corr\u001b[0m \u001b[0;34m=\u001b[0m \u001b[0mpretext_generator_tf\u001b[0m\u001b[0;34m(\u001b[0m\u001b[0mm\u001b[0m\u001b[0;34m,\u001b[0m \u001b[0mtf\u001b[0m\u001b[0;34m.\u001b[0m\u001b[0mconstant\u001b[0m\u001b[0;34m(\u001b[0m\u001b[0mx\u001b[0m\u001b[0;34m,\u001b[0m \u001b[0mdtype\u001b[0m\u001b[0;34m=\u001b[0m\u001b[0mtf\u001b[0m\u001b[0;34m.\u001b[0m\u001b[0mfloat32\u001b[0m\u001b[0;34m)\u001b[0m\u001b[0;34m)\u001b[0m\u001b[0;34m\u001b[0m\u001b[0;34m\u001b[0m\u001b[0m\n",
      "\u001b[0;32m~/Desktop/SIBMI/vime_refactored/vime_data.py\u001b[0m in \u001b[0;36mmask_generator_tf\u001b[0;34m(p_m, x)\u001b[0m\n\u001b[1;32m     13\u001b[0m         \u001b[0mmask\u001b[0m \u001b[0;34m(\u001b[0m\u001b[0mtf\u001b[0m\u001b[0;34m.\u001b[0m\u001b[0mTensor\u001b[0m\u001b[0;34m)\u001b[0m\u001b[0;34m:\u001b[0m \u001b[0mboolean\u001b[0m \u001b[0mmask\u001b[0m \u001b[0;32mwith\u001b[0m \u001b[0mthe\u001b[0m \u001b[0msame\u001b[0m \u001b[0mshape\u001b[0m \u001b[0;32mas\u001b[0m \u001b[0mx\u001b[0m\u001b[0;34m\u001b[0m\u001b[0;34m\u001b[0m\u001b[0m\n\u001b[1;32m     14\u001b[0m     \"\"\"\n\u001b[0;32m---> 15\u001b[0;31m     \u001b[0mmask\u001b[0m \u001b[0;34m=\u001b[0m \u001b[0mtf\u001b[0m\u001b[0;34m.\u001b[0m\u001b[0mkeras\u001b[0m\u001b[0;34m.\u001b[0m\u001b[0mbackend\u001b[0m\u001b[0;34m.\u001b[0m\u001b[0mrandom_bernoulli\u001b[0m\u001b[0;34m(\u001b[0m\u001b[0mx\u001b[0m\u001b[0;34m.\u001b[0m\u001b[0mshape\u001b[0m\u001b[0;34m,\u001b[0m \u001b[0mp_m\u001b[0m\u001b[0;34m)\u001b[0m\u001b[0;34m\u001b[0m\u001b[0;34m\u001b[0m\u001b[0m\n\u001b[0m\u001b[1;32m     16\u001b[0m     \u001b[0;32mreturn\u001b[0m \u001b[0mmask\u001b[0m\u001b[0;34m\u001b[0m\u001b[0;34m\u001b[0m\u001b[0m\n\u001b[1;32m     17\u001b[0m \u001b[0;34m\u001b[0m\u001b[0m\n",
      "\u001b[0;32m~/Desktop/SIBMI/.venv/lib64/python3.6/site-packages/tensorflow_core/python/util/module_wrapper.py\u001b[0m in \u001b[0;36m__getattr__\u001b[0;34m(self, name)\u001b[0m\n\u001b[1;32m    191\u001b[0m   \u001b[0;32mdef\u001b[0m \u001b[0m__getattr__\u001b[0m\u001b[0;34m(\u001b[0m\u001b[0mself\u001b[0m\u001b[0;34m,\u001b[0m \u001b[0mname\u001b[0m\u001b[0;34m)\u001b[0m\u001b[0;34m:\u001b[0m\u001b[0;34m\u001b[0m\u001b[0;34m\u001b[0m\u001b[0m\n\u001b[1;32m    192\u001b[0m     \u001b[0;32mtry\u001b[0m\u001b[0;34m:\u001b[0m\u001b[0;34m\u001b[0m\u001b[0;34m\u001b[0m\u001b[0m\n\u001b[0;32m--> 193\u001b[0;31m       \u001b[0mattr\u001b[0m \u001b[0;34m=\u001b[0m \u001b[0mgetattr\u001b[0m\u001b[0;34m(\u001b[0m\u001b[0mself\u001b[0m\u001b[0;34m.\u001b[0m\u001b[0m_tfmw_wrapped_module\u001b[0m\u001b[0;34m,\u001b[0m \u001b[0mname\u001b[0m\u001b[0;34m)\u001b[0m\u001b[0;34m\u001b[0m\u001b[0;34m\u001b[0m\u001b[0m\n\u001b[0m\u001b[1;32m    194\u001b[0m     \u001b[0;32mexcept\u001b[0m \u001b[0mAttributeError\u001b[0m\u001b[0;34m:\u001b[0m\u001b[0;34m\u001b[0m\u001b[0;34m\u001b[0m\u001b[0m\n\u001b[1;32m    195\u001b[0m       \u001b[0;32mif\u001b[0m \u001b[0;32mnot\u001b[0m \u001b[0mself\u001b[0m\u001b[0;34m.\u001b[0m\u001b[0m_tfmw_public_apis\u001b[0m\u001b[0;34m:\u001b[0m\u001b[0;34m\u001b[0m\u001b[0;34m\u001b[0m\u001b[0m\n",
      "\u001b[0;31mAttributeError\u001b[0m: module 'tensorflow.python.keras.api._v1.keras.backend' has no attribute 'random_bernoulli'"
     ]
    }
   ],
   "source": [
    "batch_size = 32\n",
    "\n",
    "# Datasets\n",
    "train_ds, train_m = to_vime_dataset(X_train_unlabeled, vime_params['p_m'], batch_size=batch_size, shuffle=True)\n",
    "val_ds, val_m = to_vime_dataset(X_val_unlabeled, vime_params['p_m'], batch_size=batch_size)\n",
    "num_features = X_train_unlabeled.shape[1]\n",
    "\n",
    "print('Proportion Corrupted:', np.round(train_m.numpy().mean(), 2))\n",
    "\n",
    "# Training\n",
    "vime_s = VIME_Self(num_features)\n",
    "vime_s.compile(\n",
    "    optimizer=tf.keras.optimizers.Adam(learning_rate=0.001),\n",
    "    loss={\n",
    "        'mask': 'binary_crossentropy', \n",
    "        'feature': 'mean_squared_error'},\n",
    "    loss_weights={'mask':1, 'feature': vime_params['alpha']}\n",
    ")\n",
    "\n",
    "cbs = [tf.keras.callbacks.EarlyStopping(\n",
    "        monitor=\"val_loss\", patience=10, restore_best_weights=True\n",
    "    )]\n",
    "\n",
    "vime_s.fit(\n",
    "    train_ds,\n",
    "    validation_data=val_ds,\n",
    "    epochs=1000,\n",
    "    callbacks=cbs\n",
    ")\n",
    "\n",
    "vime_s.save('./vime_self')"
   ]
  },
  {
   "cell_type": "code",
   "execution_count": 12,
   "metadata": {},
   "outputs": [],
   "source": [
    "vime_s = tf.keras.models.load_model('./vime_self')"
   ]
  },
  {
   "cell_type": "markdown",
   "metadata": {},
   "source": [
    "### Evaluation"
   ]
  },
  {
   "cell_type": "markdown",
   "metadata": {},
   "source": [
    "All the evaluation will be done on the validation set"
   ]
  },
  {
   "cell_type": "code",
   "execution_count": 13,
   "metadata": {},
   "outputs": [],
   "source": [
    "val_self_preds = vime_s.predict(val_ds)"
   ]
  },
  {
   "cell_type": "markdown",
   "metadata": {},
   "source": [
    "To evaluate the mask reconstruction ability we can simply check the ROC AUC score for mask predictions across all the features. "
   ]
  },
  {
   "cell_type": "code",
   "execution_count": 14,
   "metadata": {},
   "outputs": [
    {
     "name": "stderr",
     "output_type": "stream",
     "text": [
      "  0%|          | 0/51 [00:00<?, ?it/s]"
     ]
    },
    {
     "name": "stderr",
     "output_type": "stream",
     "text": [
      "100%|██████████| 51/51 [00:00<00:00, 447.68it/s]\n"
     ]
    }
   ],
   "source": [
    "feature_aucs = []\n",
    "for i in tqdm(range(X_val_unlabeled.shape[1])):\n",
    "    roc = roc_auc_score(val_m.numpy()[:, i], val_self_preds['mask'][:, i])\n",
    "    feature_aucs.append(roc)"
   ]
  },
  {
   "cell_type": "code",
   "execution_count": 15,
   "metadata": {},
   "outputs": [
    {
     "name": "stdout",
     "output_type": "stream",
     "text": [
      "[0.5136003183355597, 0.769910888331941, 0.5175315568022439, 0.5571631878557876, 0.5778546712802768, 0.5118416618156194, 0.5477802628757009, 0.4851251570207421, 0.548230803112612, 0.4813902885936785, 0.505523681640625, 0.568115234375, 0.533477783203125, 0.53007769145394, 0.5734198579909208, 0.5037611940298508, 0.5438604797979798, 0.48007268322228946, 0.5346134259952671, 0.4600205549845837, 0.5655058983666061, 0.49939419013564235, 0.5523212860900146, 0.5095451993262212, 0.58148193359375, 0.5778921865536039, 0.5591793168880456, 0.4679566305254379, 0.5295226722810547, 0.5314771035811225, 0.5231243576567317, 0.5354330708661417, 0.495581477553906, 0.5325526932084309, 0.48100117096018735, 0.4719073359073359, 0.43516414141414145, 0.5195984555984556, 0.5210555867490174, 0.5287247474747475, 0.7599196383726771, 0.6670983337650005, 0.7134770564856077, 0.8250878955298845, 0.46626099146170513, 0.5317149792945881, 0.5521972261330618, 0.5007282593174354, 0.6920444174018863, 0.5164986672385796, 0.49872265452943765]\n"
     ]
    }
   ],
   "source": [
    "print(feature_aucs)"
   ]
  },
  {
   "cell_type": "code",
   "execution_count": 16,
   "metadata": {},
   "outputs": [],
   "source": [
    "self_metrics = pd.DataFrame({\"metric\": 'mask_auc', \n",
    "             \"metric_values\": feature_aucs})"
   ]
  },
  {
   "cell_type": "markdown",
   "metadata": {},
   "source": [
    "Now, we can evaluate the feature reconstruction ability using RMSE and correlation coefficients"
   ]
  },
  {
   "cell_type": "code",
   "execution_count": 17,
   "metadata": {},
   "outputs": [
    {
     "name": "stdout",
     "output_type": "stream",
     "text": [
      "Input Feature Variances: [1.16522322 1.07327946 1.01392506 0.89348693 0.98376629 0.88311837\n",
      " 0.88311837 0.298112   0.36550703 0.67576127 0.61159076 0.61147459\n",
      " 1.12293132 1.12293132 1.13910682 1.13840739 1.17011885 2.64022837\n",
      " 0.62725405 0.62725967 0.89443342 0.8944523  0.80402999 1.00871042\n",
      " 1.00984647 1.23031177 1.23167011 0.95594694 0.95594694 0.7148636\n",
      " 0.71483385 0.79870448 0.79872398 0.69444951 1.21589875 0.88359092\n",
      " 1.05032396 1.07630963 0.88258804 0.88258804 1.66453083 1.66453083\n",
      " 0.93080668 0.93080668 0.79718774 0.67039593 0.80915833 0.80319041\n",
      " 0.84790618 0.87498147 1.17199355]\n",
      "Predicted Feature Variances: [0.1462291  0.03831572 0.15646093 0.12989496 0.1186801  0.1371773\n",
      " 0.13597013 0.03671154 0.03605137 0.05457707 0.07790788 0.08008123\n",
      " 0.12062636 0.12114664 0.16643815 0.16470657 0.14525877 0.0710437\n",
      " 0.06198777 0.05947344 0.10591778 0.10614669 0.08865851 0.11966839\n",
      " 0.11805584 0.11944082 0.11970175 0.12327585 0.12222075 0.11171514\n",
      " 0.11235946 0.13221171 0.13110368 0.03580808 0.0916703  0.0951001\n",
      " 0.09247773 0.09984177 0.12369349 0.12395507 0.03335096 0.03306775\n",
      " 0.0271884  0.02674486 0.06570046 0.03598215 0.10847148 0.1125397\n",
      " 0.03989768 0.12915686 0.11855143]\n",
      "Number of input features with zero variance: 0\n",
      "Number of predicted features with zero variance: 0\n"
     ]
    },
    {
     "name": "stderr",
     "output_type": "stream",
     "text": [
      "100%|██████████| 51/51 [00:00<00:00, 2796.68it/s]\n"
     ]
    }
   ],
   "source": [
    "input_feature_variances = np.var(X_val_unlabeled.values, axis=0)\n",
    "print(\"Input Feature Variances:\", input_feature_variances)\n",
    "\n",
    "# Calculate variances for predicted features\n",
    "predicted_feature_variances = np.var(val_self_preds['feature'], axis=0)\n",
    "print(\"Predicted Feature Variances:\", predicted_feature_variances)\n",
    "\n",
    "# Check if any input features have zero variance\n",
    "zero_variance_input_features = np.sum(input_feature_variances == 0)\n",
    "print(f\"Number of input features with zero variance: {zero_variance_input_features}\")\n",
    "\n",
    "# Check if any predicted features have zero variance = model not learning useful representatois\n",
    "zero_variance_predicted_features = np.sum(predicted_feature_variances == 0)\n",
    "print(f\"Number of predicted features with zero variance: {zero_variance_predicted_features}\")\n",
    "\n",
    "# Compute feature correlations, handling potential issues\n",
    "feature_corrs = []\n",
    "for i in tqdm(range(X_val_unlabeled.shape[1])):\n",
    "    feature = X_val_unlabeled.values[:, i]\n",
    "    pred_feature = val_self_preds['feature'][:, i]\n",
    "    \n",
    "    # Check for zero variance in feature or predicted feature\n",
    "    if np.var(feature) == 0:\n",
    "        print(f\"Feature {i} var 0 in input\")\n",
    "        c = np.nan \n",
    "    elif np.var(pred_feature) == 0:\n",
    "        print(f\"Feature {i} var 0 in predictions\")\n",
    "        c = np.nan  # Assign NaN if variance is zero\n",
    "    else:\n",
    "        c = np.corrcoef(feature, pred_feature)[0, 1]\n",
    "    feature_corrs.append(c)\n",
    "    \n",
    "self_metrics = pd.concat([\n",
    "    self_metrics,\n",
    "    pd.DataFrame({\"metric\": 'feature_correlation', \n",
    "             \"metric_values\": feature_corrs})\n",
    "])"
   ]
  },
  {
   "cell_type": "markdown",
   "metadata": {},
   "source": [
    "From the plot and table above, we can see that the model has learned to reconstruct most of the features. Half of the features are reconstructed with relatively strong correlation with original data. Only a handful of features are not properly reconstructed. Let's check the RMSE across all the features"
   ]
  },
  {
   "cell_type": "code",
   "execution_count": 18,
   "metadata": {},
   "outputs": [
    {
     "name": "stderr",
     "output_type": "stream",
     "text": [
      "100%|██████████| 51/51 [00:00<00:00, 2775.13it/s]\n"
     ]
    }
   ],
   "source": [
    "rmses = []\n",
    "for i in tqdm(range(X_val_unlabeled.shape[1])):\n",
    "    mse = mean_squared_error(X_val_unlabeled.values[:, i], val_self_preds['feature'][:, i])\n",
    "    rmses.append(np.sqrt(mse))\n",
    "    \n",
    "self_metrics = pd.concat([\n",
    "    self_metrics,\n",
    "    pd.DataFrame({\"metric\": 'RMSE', \n",
    "             \"metric_values\": rmses})\n",
    "])"
   ]
  },
  {
   "cell_type": "code",
   "execution_count": 19,
   "metadata": {},
   "outputs": [
    {
     "name": "stdout",
     "output_type": "stream",
     "text": [
      "[0.9730245984662603, 0.9871163424622142, 0.9152239649001827, 0.8180491520050547, 0.8553137859645138, 0.8340840247436042, 0.8340245457559087, 0.5085324338475601, 0.5684377698831602, 0.7675077351058984, 0.648861117810523, 0.648205433193068, 0.9302559704460742, 0.9304713213858548, 0.8742515295116375, 0.8716479276309653, 0.9576005069917204, 1.497730566413078, 0.670608942100125, 0.6684568103716653, 0.8383086392688012, 0.8426601899838807, 0.808640386771402, 0.8819490712699274, 0.8821657701808758, 0.9513406733757521, 0.9528683502614629, 0.8413865121855787, 0.839926154290656, 0.699398559190768, 0.6991076340038613, 0.7702412520265857, 0.769165948450586, 0.7483859872800835, 1.0427897196050204, 0.8491654045096964, 0.9790789337339991, 0.952127157407213, 0.799835025358913, 0.8008128981486036, 1.190114958567077, 1.1894301501795828, 0.904472995557334, 0.9063569974781075, 0.756585490278752, 0.7347693195276122, 0.7871914601693437, 0.7847004849774168, 0.8704874595830915, 0.8205894069664054, 0.9757914009974468]\n"
     ]
    }
   ],
   "source": [
    "print(rmses)"
   ]
  },
  {
   "cell_type": "code",
   "execution_count": 20,
   "metadata": {},
   "outputs": [
    {
     "data": {
      "text/plain": [
       "Text(0.5, 1.0, 'Self-Supervised VIME Evaluation')"
      ]
     },
     "execution_count": 20,
     "metadata": {},
     "output_type": "execute_result"
    },
    {
     "data": {
      "image/png": "[encoded data removed]",
      "text/plain": [
       "<Figure size 1440x720 with 1 Axes>"
      ]
     },
     "metadata": {
      "needs_background": "light"
     },
     "output_type": "display_data"
    }
   ],
   "source": [
    "sns.boxplot(x=self_metrics['metric'], y=self_metrics['metric_values'])\n",
    "plt.title(\"Self-Supervised VIME Evaluation\")"
   ]
  },
  {
   "cell_type": "markdown",
   "metadata": {},
   "source": [
    "RMSE distribution further indicates that mjority of the features are well-reconstructed."
   ]
  },
  {
   "cell_type": "markdown",
   "metadata": {},
   "source": [
    "Another way to evaluate the self-supervised model is to look at the embeddings. Since the whole point of corrupting the dataset is to learn to generate robust embeddings, we can assume that if a sample was corrupted 5 times, all 5 embeddings should be relatively close to each other in the vector space. Let's check this hypothesis by corrupting 10 different samples 5 times and projecting their embeddings to 2-dimensional space using UMAP."
   ]
  },
  {
   "cell_type": "code",
   "execution_count": 21,
   "metadata": {},
   "outputs": [],
   "source": [
    "from tensorflow.keras.models import Sequential\n",
    "from tensorflow.keras.layers import Input, Dense, Dropout\n",
    "\n",
    "\n",
    "def generate_k_corrupted(x, k, p_m):\n",
    "    x_u_list = []\n",
    "    for i in range(k):\n",
    "        mask = mask_generator_tf(p_m, x)\n",
    "        _, x_corr = pretext_generator_tf(mask, tf.constant(x, dtype=tf.float32))\n",
    "        x_u_list.append(x_corr)\n",
    "    \n",
    "    \n",
    "    # Prepare input with shape (n, k, d)\n",
    "    x_u_corrupted = np.zeros((x.shape[0], k, x.shape[1]))\n",
    "    for i in range(x.shape[0]):\n",
    "        for j in range(k):\n",
    "            x_u_corrupted[i, j, :] = x_u_list[j][i, :]\n",
    "    \n",
    "    return x_u_corrupted"
   ]
  },
  {
   "cell_type": "code",
   "execution_count": 22,
   "metadata": {},
   "outputs": [
    {
     "name": "stdout",
     "output_type": "stream",
     "text": [
      "WARNING:tensorflow:Model was constructed with shape (None, 51) for input KerasTensor(type_spec=TensorSpec(shape=(None, 51), dtype=tf.float32, name='input_1'), name='input_1', description=\"created by layer 'input_1'\"), but it was called on an input with incompatible shape (None, 5, 51).\n",
      "WARNING:tensorflow:Model was constructed with shape (None, 51) for input KerasTensor(type_spec=TensorSpec(shape=(None, 51), dtype=tf.float32, name='dense_input'), name='dense_input', description=\"created by layer 'dense_input'\"), but it was called on an input with incompatible shape (None, 5, 51).\n",
      "WARNING:tensorflow:Model was constructed with shape (None, 51) for input KerasTensor(type_spec=TensorSpec(shape=(None, 51), dtype=tf.float32, name='input_2'), name='input_2', description=\"created by layer 'input_2'\"), but it was called on an input with incompatible shape (None, 5, 51).\n"
     ]
    }
   ],
   "source": [
    "vime_s = tf.keras.models.load_model('./vime_self')\n",
    "\n",
    "# Sequential model to produce embeddings\n",
    "encoding_model = Sequential(\n",
    "    [\n",
    "        Input(num_features),\n",
    "        vime_s.encoder\n",
    "    ]\n",
    ")\n",
    "\n",
    "dense_model = Sequential(\n",
    "    [\n",
    "        Input(num_features),\n",
    "        Dense(num_features, activation=\"relu\"),\n",
    "    \n",
    "    ]\n",
    ")\n",
    "\n",
    "# Create corrupted sample\n",
    "samples = X_val_unlabeled.sample(10)\n",
    "sample_corrupted = generate_k_corrupted(\n",
    "    x=samples,\n",
    "    k=5,\n",
    "    p_m=0.4\n",
    ")\n",
    "\n",
    "val_encoding = encoding_model.predict(sample_corrupted, batch_size=batch_size)\n",
    "random_encoding = dense_model.predict(sample_corrupted, batch_size=batch_size)"
   ]
  },
  {
   "cell_type": "code",
   "execution_count": 23,
   "metadata": {},
   "outputs": [
    {
     "name": "stderr",
     "output_type": "stream",
     "text": [
      "/home/lic776/Desktop/SIBMI/.venv/lib64/python3.6/site-packages/seaborn/_decorators.py:43: FutureWarning: Pass the following variables as keyword args: x, y. From version 0.12, the only valid positional argument will be `data`, and passing other arguments without an explicit keyword will result in an error or misinterpretation.\n",
      "  FutureWarning\n",
      "No handles with labels found to put in legend.\n",
      "/home/lic776/Desktop/SIBMI/.venv/lib64/python3.6/site-packages/seaborn/_decorators.py:43: FutureWarning: Pass the following variables as keyword args: x, y. From version 0.12, the only valid positional argument will be `data`, and passing other arguments without an explicit keyword will result in an error or misinterpretation.\n",
      "  FutureWarning\n"
     ]
    },
    {
     "data": {
      "image/png": "[encoded data removed]",
      "text/plain": [
       "<Figure size 1440x720 with 2 Axes>"
      ]
     },
     "metadata": {
      "needs_background": "light"
     },
     "output_type": "display_data"
    }
   ],
   "source": [
    "import umap\n",
    "\n",
    "fig, axs = plt.subplots(1, 2)\n",
    "\n",
    "# Project corrupted samples\n",
    "u = umap.UMAP(n_neighbors=5, min_dist=0.8)\n",
    "corrupted_umap = u.fit_transform(val_encoding.reshape(-1, val_encoding.shape[2]))\n",
    "sample_ids = np.array([np.repeat(i, 5) for i in range(10)]).ravel()\n",
    "sns.scatterplot(corrupted_umap[:, 0], corrupted_umap[:, 1], hue=sample_ids, palette=\"tab10\", ax=axs[0])\n",
    "axs[0].set_title('VIME Embeddings of Corrupted Samples')\n",
    "plt.legend(title='Sample ID')\n",
    "\n",
    "# Project corrupted samples\n",
    "u = umap.UMAP(n_neighbors=5, min_dist=0.8)\n",
    "corrupted_umap = u.fit_transform(random_encoding.reshape(-1, random_encoding.shape[2]))\n",
    "sample_ids = np.array([np.repeat(i, 5) for i in range(10)]).ravel()\n",
    "sns.scatterplot(corrupted_umap[:, 0], corrupted_umap[:, 1], hue=sample_ids, palette=\"tab10\", ax=axs[1])\n",
    "axs[1].set_title('Not-trained Embeddings of Corrupted Samples')\n",
    "\n",
    "plt.legend(title='Sample ID')\n",
    "plt.show()"
   ]
  },
  {
   "cell_type": "markdown",
   "metadata": {},
   "source": [
    "As you can see, the embeddings indeed put the same samples closer to each other, even though some of their values were corrupted. According to the authors, this means that the model has learned useful information about the feature correlations which can be helpful in the downstream tasks. Now, we can use this encoder in the next semi-supervised part."
   ]
  },
  {
   "cell_type": "markdown",
   "metadata": {},
   "source": [
    "## Semi-Supervised Learning"
   ]
  },
  {
   "cell_type": "code",
   "execution_count": 24,
   "metadata": {},
   "outputs": [],
   "source": [
    "semi_batch_size = 512\n",
    "num_features = X_train_unlabeled.shape[1]"
   ]
  },
  {
   "cell_type": "markdown",
   "metadata": {},
   "source": [
    "Since we have different number of labelled and unlabelled examples we need to use generators. They will shuffle and select appropriate number of rows for each training iteration."
   ]
  },
  {
   "cell_type": "code",
   "execution_count": 25,
   "metadata": {},
   "outputs": [],
   "source": [
    "def train_semi_generator():\n",
    "    return semi_supervised_generator(\n",
    "        X_train_labeled.values,\n",
    "        X_train_unlabeled.values, \n",
    "        y_train_labeled.values, \n",
    "        bs=semi_batch_size\n",
    "    )\n",
    "\n",
    "def val_semi_generator():\n",
    "    return semi_supervised_generator(\n",
    "        X_val_labeled.values,\n",
    "        X_val_unlabeled.values, \n",
    "        y_val_labeled.values, \n",
    "        bs=semi_batch_size\n",
    "    )\n",
    "\n",
    "semi_train_dataset = tf.data.Dataset.from_generator(\n",
    "     train_semi_generator,\n",
    "     output_signature=(\n",
    "         tf.TensorSpec(shape=(semi_batch_size, num_features), dtype=tf.float32),\n",
    "         tf.TensorSpec(shape=(semi_batch_size), dtype=tf.float32),\n",
    "         tf.TensorSpec(shape=(semi_batch_size, num_features), dtype=tf.float32)\n",
    "     )\n",
    ")\n",
    "\n",
    "semi_val_dataset = tf.data.Dataset.from_generator(\n",
    "     val_semi_generator,\n",
    "     output_signature=(\n",
    "         tf.TensorSpec(shape=(semi_batch_size, num_features), dtype=tf.float32),\n",
    "         tf.TensorSpec(shape=(semi_batch_size), dtype=tf.float32),\n",
    "         tf.TensorSpec(shape=(semi_batch_size, num_features), dtype=tf.float32)\n",
    "     )\n",
    ")"
   ]
  },
  {
   "cell_type": "markdown",
   "metadata": {},
   "source": [
    "## Self Supervised VIME"
   ]
  },
  {
   "cell_type": "code",
   "execution_count": 32,
   "metadata": {},
   "outputs": [],
   "source": [
    "def train_vime_semi(encoder, train_dataset, val_dataset, train_params, vime_params):\n",
    "    # Model\n",
    "    import numpy as np \n",
    "\n",
    "    vime = VIME(encoder)\n",
    "    \n",
    "    # Training parameters\n",
    "    iterations = train_params['iterations']\n",
    "    optimizer = tf.keras.optimizers.Adam(train_params['learning_rate'])\n",
    "    early_stop = train_params['early_stop']\n",
    "    \n",
    "    # Set metrics to track\n",
    "    best_loss = 1e10\n",
    "    no_improve = 0\n",
    "    \n",
    "    # Begining training loop\n",
    "    for it in range(iterations):\n",
    "        # Grab a batch for iteration\n",
    "        it_train = iter(train_dataset)\n",
    "        X_l, y_l, X_u = next(it_train)\n",
    "        \n",
    "        # Generate unlabelled batch with k corrupted examples per sample\n",
    "        X_u_corrupted = generate_k_corrupted(X_u, vime_params['k'], vime_params['p_m'])\n",
    "        \n",
    "        with tf.GradientTape() as tape:\n",
    "            # Predict labelled & unlabelled\n",
    "            labelled_preds = vime(X_l)\n",
    "            unlabelled_preds = vime(X_u_corrupted)\n",
    "\n",
    "            # Calculate losses\n",
    "            labelled_loss = labelled_loss_fn(y_l, labelled_preds)\n",
    "            unlabelled_loss = unlabelled_loss_fn(unlabelled_preds)\n",
    "\n",
    "            # Total loss\n",
    "            semi_supervised_loss = unlabelled_loss + vime_params['beta'] * labelled_loss\n",
    "        \n",
    "        if it % 10 == 0:\n",
    "            val_iter_losses = []\n",
    "            print(f\"\\nMetrics for Iteration {it}\")\n",
    "            for i in range(5):\n",
    "                # Grab a batch\n",
    "                it_val = iter(val_dataset)\n",
    "                X_l_val, y_l_val, X_u_val = next(it_val)\n",
    "\n",
    "                # Generate unlabelled batch with k corrupted examples per sample\n",
    "                X_u_corrupted = generate_k_corrupted(X_u_val, vime_params['k'], vime_params['p_m'])\n",
    "\n",
    "                # Predict labelled & unlabelled\n",
    "                labelled_preds_val = vime(X_l_val)\n",
    "                unlabelled_preds_val = vime(X_u_corrupted)\n",
    "\n",
    "                # Calculate losses\n",
    "                labelled_loss_val = labelled_loss_fn(y_l_val, labelled_preds_val)\n",
    "                unlabelled_loss_val = unlabelled_loss_fn(unlabelled_preds_val)\n",
    "                semi_supervised_loss_val = unlabelled_loss_val + vime_params['beta'] * labelled_loss_val\n",
    "                val_iter_losses.append(semi_supervised_loss_val)\n",
    "            \n",
    "            # Average loss over 5 validation iterations\n",
    "            semi_supervised_loss_val = np.mean(val_iter_losses)\n",
    "\n",
    "            print(f\"Train Loss {np.round(semi_supervised_loss, 5)}, Val Loss {np.round(semi_supervised_loss_val, 5)}\")\n",
    "            # Update metrics if val_loss is better\n",
    "            if semi_supervised_loss_val < best_loss:\n",
    "                best_loss = semi_supervised_loss_val\n",
    "                no_improve = 0\n",
    "                vime.save('./vime')\n",
    "            else:\n",
    "                no_improve += 1\n",
    "                print(f\"Validation loss not improved {no_improve} times\")\n",
    "\n",
    "            # Early stopping\n",
    "            if no_improve == early_stop:\n",
    "                break\n",
    "        \n",
    "        # Update weights\n",
    "        grads = tape.gradient(semi_supervised_loss, vime.trainable_weights)\n",
    "        optimizer.apply_gradients(zip(grads, vime.trainable_weights))\n",
    "\n",
    "    vime = tf.keras.models.load_model('./vime')\n",
    "\n",
    "    return vime"
   ]
  },
  {
   "cell_type": "code",
   "execution_count": 31,
   "metadata": {},
   "outputs": [
    {
     "name": "stdout",
     "output_type": "stream",
     "text": [
      "['/home/lic776//Desktop/SIBMI/modified_umap', '/usr/lib64/python36.zip', '/usr/lib64/python3.6', '/usr/lib64/python3.6/lib-dynload', '', '/home/lic776/Desktop/SIBMI/.venv/lib64/python3.6/site-packages', '/home/lic776/Desktop/SIBMI/.venv/lib/python3.6/site-packages', '/home/lic776/Desktop/SIBMI/.venv/lib64/python3.6/site-packages/IPython/extensions', '/home/lic776/.ipython']\n"
     ]
    }
   ],
   "source": [
    "import sys\n",
    "print(sys.path)"
   ]
  },
  {
   "cell_type": "code",
   "execution_count": 34,
   "metadata": {
    "scrolled": true
   },
   "outputs": [
    {
     "name": "stdout",
     "output_type": "stream",
     "text": [
      "\n",
      "Metrics for Iteration 0\n",
      "Train Loss -221.58859252929688, Val Loss -241.93582153320312\n",
      "INFO:tensorflow:Assets written to: ./vime/assets\n",
      "\n",
      "Metrics for Iteration 10\n",
      "Train Loss -4968.064453125, Val Loss -4839.07958984375\n",
      "INFO:tensorflow:Assets written to: ./vime/assets\n",
      "\n",
      "Metrics for Iteration 20\n",
      "Train Loss -6288.2587890625, Val Loss -5845.5556640625\n",
      "INFO:tensorflow:Assets written to: ./vime/assets\n",
      "\n",
      "Metrics for Iteration 30\n",
      "Train Loss -6236.025390625, Val Loss -5928.04248046875\n",
      "INFO:tensorflow:Assets written to: ./vime/assets\n"
     ]
    },
    {
     "name": "stderr",
     "output_type": "stream",
     "text": [
      "Exception ignored in: <bound method IteratorResourceDeleter.__del__ of <tensorflow.python.data.ops.iterator_ops.IteratorResourceDeleter object at 0x7f515810cb08>>\n",
      "Traceback (most recent call last):\n",
      "  File \"/home/lic776/Desktop/SIBMI/.venv/lib64/python3.6/site-packages/tensorflow/python/data/ops/iterator_ops.py\", line 546, in __del__\n",
      "    handle=self._handle, deleter=self._deleter)\n",
      "  File \"/home/lic776/Desktop/SIBMI/.venv/lib64/python3.6/site-packages/tensorflow/python/ops/gen_dataset_ops.py\", line 1264, in delete_iterator\n",
      "    _ctx, \"DeleteIterator\", name, handle, deleter)\n",
      "KeyboardInterrupt: \n",
      "Exception ignored in: <bound method IteratorResourceDeleter.__del__ of <tensorflow.python.data.ops.iterator_ops.IteratorResourceDeleter object at 0x7f5158141fc8>>\n",
      "Traceback (most recent call last):\n",
      "  File \"/home/lic776/Desktop/SIBMI/.venv/lib64/python3.6/site-packages/tensorflow/python/data/ops/iterator_ops.py\", line 546, in __del__\n",
      "    handle=self._handle, deleter=self._deleter)\n",
      "  File \"/home/lic776/Desktop/SIBMI/.venv/lib64/python3.6/site-packages/tensorflow/python/ops/gen_dataset_ops.py\", line 1264, in delete_iterator\n",
      "    _ctx, \"DeleteIterator\", name, handle, deleter)\n",
      "KeyboardInterrupt: \n"
     ]
    },
    {
     "name": "stdout",
     "output_type": "stream",
     "text": [
      "\n",
      "Metrics for Iteration 40\n",
      "Train Loss -6249.90673828125, Val Loss -5854.51953125\n",
      "Validation loss not improved 1 times\n",
      "\n",
      "Metrics for Iteration 50\n",
      "Train Loss -6203.6669921875, Val Loss -5933.22900390625\n",
      "INFO:tensorflow:Assets written to: ./vime/assets\n",
      "\n",
      "Metrics for Iteration 60\n",
      "Train Loss -6153.96142578125, Val Loss -5877.44384765625\n",
      "Validation loss not improved 1 times\n",
      "\n",
      "Metrics for Iteration 70\n"
     ]
    },
    {
     "name": "stderr",
     "output_type": "stream",
     "text": [
      "Exception ignored in: <bound method IteratorResourceDeleter.__del__ of <tensorflow.python.data.ops.iterator_ops.IteratorResourceDeleter object at 0x7f5158398848>>\n",
      "Traceback (most recent call last):\n",
      "  File \"/home/lic776/Desktop/SIBMI/.venv/lib64/python3.6/site-packages/tensorflow/python/data/ops/iterator_ops.py\", line 546, in __del__\n",
      "    handle=self._handle, deleter=self._deleter)\n",
      "  File \"/home/lic776/Desktop/SIBMI/.venv/lib64/python3.6/site-packages/tensorflow/python/ops/gen_dataset_ops.py\", line 1264, in delete_iterator\n",
      "    _ctx, \"DeleteIterator\", name, handle, deleter)\n",
      "KeyboardInterrupt: \n"
     ]
    },
    {
     "name": "stdout",
     "output_type": "stream",
     "text": [
      "Train Loss -6149.41357421875, Val Loss -5840.2490234375\n",
      "Validation loss not improved 2 times\n"
     ]
    }
   ],
   "source": [
    "train_params = {\n",
    "    'num_features': num_features,\n",
    "    'iterations': 1000,\n",
    "    'early_stop': 20,\n",
    "    'learning_rate': 0.001\n",
    "}\n",
    "\n",
    "vime_self = tf.keras.models.load_model('./vime_self')\n",
    "\n",
    "vime_semi = train_vime_semi(\n",
    "    encoder = vime_self.encoder,\n",
    "    train_dataset = semi_train_dataset, \n",
    "    val_dataset = semi_val_dataset,\n",
    "    train_params = train_params,\n",
    "    vime_params = vime_params\n",
    ")\n"
   ]
  },
  {
   "cell_type": "code",
   "execution_count": 28,
   "metadata": {},
   "outputs": [
    {
     "ename": "NameError",
     "evalue": "name 'test' is not defined",
     "output_type": "error",
     "traceback": [
      "\u001b[0;31m---------------------------------------------------------------------------\u001b[0m",
      "\u001b[0;31mNameError\u001b[0m                                 Traceback (most recent call last)",
      "\u001b[0;32m<ipython-input-28-ce5a91d1cf26>\u001b[0m in \u001b[0;36m<module>\u001b[0;34m\u001b[0m\n\u001b[0;32m----> 1\u001b[0;31m \u001b[0mtest_ds\u001b[0m \u001b[0;34m=\u001b[0m \u001b[0mtf\u001b[0m\u001b[0;34m.\u001b[0m\u001b[0mdata\u001b[0m\u001b[0;34m.\u001b[0m\u001b[0mDataset\u001b[0m\u001b[0;34m.\u001b[0m\u001b[0mfrom_tensor_slices\u001b[0m\u001b[0;34m(\u001b[0m\u001b[0mtest\u001b[0m\u001b[0;34m[\u001b[0m\u001b[0mnum_cols\u001b[0m\u001b[0;34m]\u001b[0m\u001b[0;34m)\u001b[0m\u001b[0;34m.\u001b[0m\u001b[0mbatch\u001b[0m\u001b[0;34m(\u001b[0m\u001b[0mbatch_size\u001b[0m\u001b[0;34m)\u001b[0m\u001b[0;34m\u001b[0m\u001b[0;34m\u001b[0m\u001b[0m\n\u001b[0m\u001b[1;32m      2\u001b[0m \u001b[0;34m\u001b[0m\u001b[0m\n\u001b[1;32m      3\u001b[0m \u001b[0mvime_tuned_preds\u001b[0m \u001b[0;34m=\u001b[0m \u001b[0mvime_semi\u001b[0m\u001b[0;34m.\u001b[0m\u001b[0mpredict\u001b[0m\u001b[0;34m(\u001b[0m\u001b[0mtest_ds\u001b[0m\u001b[0;34m)\u001b[0m\u001b[0;34m\u001b[0m\u001b[0;34m\u001b[0m\u001b[0m\n\u001b[1;32m      4\u001b[0m \u001b[0mpr\u001b[0m \u001b[0;34m=\u001b[0m \u001b[0maverage_precision_score\u001b[0m\u001b[0;34m(\u001b[0m\u001b[0mtest\u001b[0m\u001b[0;34m[\u001b[0m\u001b[0;34m'isFraud'\u001b[0m\u001b[0;34m]\u001b[0m\u001b[0;34m,\u001b[0m \u001b[0mvime_tuned_preds\u001b[0m\u001b[0;34m)\u001b[0m\u001b[0;34m\u001b[0m\u001b[0;34m\u001b[0m\u001b[0m\n\u001b[1;32m      5\u001b[0m \u001b[0mprint\u001b[0m\u001b[0;34m(\u001b[0m\u001b[0mpr\u001b[0m\u001b[0;34m)\u001b[0m\u001b[0;34m\u001b[0m\u001b[0;34m\u001b[0m\u001b[0m\n",
      "\u001b[0;31mNameError\u001b[0m: name 'test' is not defined"
     ]
    }
   ],
   "source": [
    "test_ds = tf.data.Dataset.from_tensor_slices(test[num_cols]).batch(batch_size)\n",
    "\n",
    "vime_tuned_preds = vime_semi.predict(test_ds)\n",
    "pr = average_precision_score(test['isFraud'], vime_tuned_preds)\n",
    "print(pr)"
   ]
  },
  {
   "cell_type": "markdown",
   "metadata": {},
   "source": [
    "## Evaluation"
   ]
  },
  {
   "cell_type": "markdown",
   "metadata": {},
   "source": [
    "Re-training the model 10 times to get distribution of PR AUC scores."
   ]
  },
  {
   "cell_type": "code",
   "execution_count": 247,
   "metadata": {
    "scrolled": true
   },
   "outputs": [],
   "source": [
    "vime_prs = []\n",
    "test_ds = tf.data.Dataset.from_tensor_slices(test[num_cols]).batch(batch_size)\n",
    "\n",
    "for i in range(10):\n",
    "    train_params = {\n",
    "        'num_features': num_features,\n",
    "        'iterations': 1000,\n",
    "        'early_stop': 10,\n",
    "        'learning_rate': 0.001\n",
    "    }\n",
    "    vime_self = tf.keras.models.load_model('./vime_self')\n",
    "    vime_self.encoder.trainable = False\n",
    "    vime_semi = train_vime_semi(\n",
    "        encoder = vime_self.encoder,\n",
    "        train_dataset = semi_train_dataset, \n",
    "        val_dataset = semi_val_dataset,\n",
    "        train_params = train_params,\n",
    "        vime_params = vime_params\n",
    "    )\n",
    "    # fine-tune\n",
    "    vime_semi = tf.keras.models.load_model('./vime')\n",
    "    vime_semi.encoder.trainable\n",
    "\n",
    "\n",
    "    vime_tuned_preds = vime_semi.predict(test_ds)\n",
    "    pr = average_precision_score(test['isFraud'], vime_tuned_preds)\n",
    "    vime_prs.append(pr)\n",
    "    print('VIME Train', i, \"PR AUC:\", pr)"
   ]
  },
  {
   "cell_type": "markdown",
   "metadata": {},
   "source": [
    "### Compare with MLP and RF"
   ]
  },
  {
   "cell_type": "code",
   "execution_count": null,
   "metadata": {},
   "outputs": [],
   "source": [
    "mlp_prs = []\n",
    "\n",
    "for i in range(10):\n",
    "    base_mlp = Sequential([\n",
    "        Input(shape=num_features),\n",
    "        Dense(num_features),\n",
    "        Dense(128),\n",
    "        Dropout(0.2),\n",
    "        Dense(128),\n",
    "        Dropout(0.2),\n",
    "        Dense(1, activation='sigmoid')\n",
    "    ])\n",
    "\n",
    "    base_mlp.compile(\n",
    "        optimizer=tf.keras.optimizers.Adam(learning_rate=0.0001),\n",
    "        loss='binary_crossentropy'\n",
    "    )\n",
    "\n",
    "    # Early stopping based on validation loss    \n",
    "    cbs = [tf.keras.callbacks.EarlyStopping(\n",
    "            monitor=\"val_loss\", patience=20, restore_best_weights=True\n",
    "        )]\n",
    "\n",
    "    base_mlp.fit(\n",
    "        x=X_train_labelled.values,\n",
    "        y=y_train_labelled,\n",
    "        validation_data=(X_val_labelled.values, y_val_labelled),\n",
    "        epochs=1000,\n",
    "        callbacks=cbs\n",
    "    )\n",
    "\n",
    "    base_mlp_preds = base_mlp.predict(test_ds)\n",
    "    mlp_prs.append(average_precision_score(test['isFraud'], base_mlp_preds))"
   ]
  },
  {
   "cell_type": "code",
   "execution_count": 231,
   "metadata": {},
   "outputs": [
    {
     "name": "stderr",
     "output_type": "stream",
     "text": [
      "100%|██████████| 10/10 [00:07<00:00,  1.28it/s]\n"
     ]
    }
   ],
   "source": [
    "from lightgbm import LGBMClassifier\n",
    "\n",
    "train_tree_X = pd.concat([X_train_labelled, X_val_labelled])\n",
    "train_tree_y = pd.concat([y_train_labelled, y_val_labelled])\n",
    "\n",
    "rf_prs = []\n",
    "for i in tqdm(range(10)):\n",
    "    rf = RandomForestClassifier(max_depth=4)\n",
    "    rf.fit(train_tree_X.values, train_tree_y)\n",
    "    rf_preds = rf.predict_proba(test[X_train_labelled.columns])\n",
    "    rf_prs.append(average_precision_score(test['isFraud'], rf_preds[:, 1]))"
   ]
  },
  {
   "cell_type": "code",
   "execution_count": 235,
   "metadata": {},
   "outputs": [
    {
     "data": {
      "image/png": "[encoded data removed]",
      "text/plain": [
       "<Figure size 1440x720 with 1 Axes>"
      ]
     },
     "metadata": {
      "needs_background": "light"
     },
     "output_type": "display_data"
    }
   ],
   "source": [
    "metrics_df = pd.DataFrame({\"MLP\": mlp_prs,\n",
    "             \"VIME\": vime_prs,\n",
    "             \"RF\": rf_prs})\n",
    "\n",
    "metrics_df.boxplot()\n",
    "plt.ylabel(\"PR AUC\")\n",
    "plt.show()"
   ]
  },
  {
   "cell_type": "code",
   "execution_count": 236,
   "metadata": {},
   "outputs": [
    {
     "data": {
      "text/html": [
       "<div>\n",
       "<style scoped>\n",
       "    .dataframe tbody tr th:only-of-type {\n",
       "        vertical-align: middle;\n",
       "    }\n",
       "\n",
       "    .dataframe tbody tr th {\n",
       "        vertical-align: top;\n",
       "    }\n",
       "\n",
       "    .dataframe thead th {\n",
       "        text-align: right;\n",
       "    }\n",
       "</style>\n",
       "<table border=\"1\" class=\"dataframe\">\n",
       "  <thead>\n",
       "    <tr style=\"text-align: right;\">\n",
       "      <th></th>\n",
       "      <th>MLP</th>\n",
       "      <th>VIME</th>\n",
       "      <th>RF</th>\n",
       "    </tr>\n",
       "  </thead>\n",
       "  <tbody>\n",
       "    <tr>\n",
       "      <th>count</th>\n",
       "      <td>10.000000</td>\n",
       "      <td>10.000000</td>\n",
       "      <td>10.000000</td>\n",
       "    </tr>\n",
       "    <tr>\n",
       "      <th>mean</th>\n",
       "      <td>0.318847</td>\n",
       "      <td>0.370264</td>\n",
       "      <td>0.354883</td>\n",
       "    </tr>\n",
       "    <tr>\n",
       "      <th>std</th>\n",
       "      <td>0.014776</td>\n",
       "      <td>0.010052</td>\n",
       "      <td>0.007481</td>\n",
       "    </tr>\n",
       "    <tr>\n",
       "      <th>min</th>\n",
       "      <td>0.299667</td>\n",
       "      <td>0.352266</td>\n",
       "      <td>0.341996</td>\n",
       "    </tr>\n",
       "    <tr>\n",
       "      <th>25%</th>\n",
       "      <td>0.304485</td>\n",
       "      <td>0.364469</td>\n",
       "      <td>0.349961</td>\n",
       "    </tr>\n",
       "    <tr>\n",
       "      <th>50%</th>\n",
       "      <td>0.322631</td>\n",
       "      <td>0.369486</td>\n",
       "      <td>0.355842</td>\n",
       "    </tr>\n",
       "    <tr>\n",
       "      <th>75%</th>\n",
       "      <td>0.327522</td>\n",
       "      <td>0.377327</td>\n",
       "      <td>0.361452</td>\n",
       "    </tr>\n",
       "    <tr>\n",
       "      <th>max</th>\n",
       "      <td>0.341173</td>\n",
       "      <td>0.386599</td>\n",
       "      <td>0.364158</td>\n",
       "    </tr>\n",
       "  </tbody>\n",
       "</table>\n",
       "</div>"
      ],
      "text/plain": [
       "             MLP       VIME         RF\n",
       "count  10.000000  10.000000  10.000000\n",
       "mean    0.318847   0.370264   0.354883\n",
       "std     0.014776   0.010052   0.007481\n",
       "min     0.299667   0.352266   0.341996\n",
       "25%     0.304485   0.364469   0.349961\n",
       "50%     0.322631   0.369486   0.355842\n",
       "75%     0.327522   0.377327   0.361452\n",
       "max     0.341173   0.386599   0.364158"
      ]
     },
     "execution_count": 236,
     "metadata": {},
     "output_type": "execute_result"
    }
   ],
   "source": [
    "metrics_df.describe()"
   ]
  },
  {
   "cell_type": "code",
   "execution_count": null,
   "metadata": {},
   "outputs": [],
   "source": []
  }
 ],
 "metadata": {
  "kernelspec": {
   "display_name": "Python 3",
   "language": "python",
   "name": "python3"
  },
  "language_info": {
   "codemirror_mode": {
    "name": "ipython",
    "version": 3
   },
   "file_extension": ".py",
   "mimetype": "text/x-python",
   "name": "python",
   "nbconvert_exporter": "python",
   "pygments_lexer": "ipython3",
   "version": "3.6.8"
  }
 },
 "nbformat": 4,
 "nbformat_minor": 4
}
